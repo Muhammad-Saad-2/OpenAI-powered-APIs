{
 "cells": [
  {
   "cell_type": "code",
   "execution_count": 1,
   "metadata": {},
   "outputs": [],
   "source": [
    "import os \n",
    "from openai import OpenAI\n",
    "from dotenv import load_dotenv, find_dotenv\n",
    "\n",
    "_ : bool = load_dotenv(find_dotenv())\n",
    "\n",
    "client : OpenAI = OpenAI()\n",
    "\n"
   ]
  },
  {
   "cell_type": "code",
   "execution_count": 8,
   "metadata": {},
   "outputs": [
    {
     "name": "stdout",
     "output_type": "stream",
     "text": [
      "In the realm of programming, there's a concept quite profound,\n",
      "It's a technique called recursion, where elegance is found.\n",
      "\n",
      "Like a Russian nesting doll, it's a pattern quite unique,\n",
      "Repeating itself within, a solution it seeks.\n",
      "\n",
      "A function calls itself, to tackle a daunting task,\n",
      "Breaking it down, step by step, is its steadfast mask.\n",
      "\n",
      "Like a fractal unfolding, it recurs as it goes,\n",
      "Solving problems large and small, with grace it bestows.\n",
      "\n",
      "Base case and recursive step, are its guiding light,\n",
      "A dance of repetition, weaving code so bright.\n",
      "\n",
      "Through loops and iterations, recursion takes its flight,\n",
      "Unraveling complexities, with its recursive might.\n",
      "\n",
      "So in the world of programming, where algorithms roam,\n",
      "Recursion stands tall, as an elegant poem.\n"
     ]
    }
   ],
   "source": [
    "from openai.types.chat.chat_completion import ChatCompletion\n",
    "\n",
    "def chat_completion ()-> str: \n",
    "    completion : ChatCompletion = client.chat.completions.create(\n",
    "        model = \"gpt-3.5-turbo-1106\",\n",
    "        messages = [\n",
    "            {\"role\": \"system\", \"content\": \"You are a poetic assistant, skilled in explaining complex programming concepts\"}, #was missing a comma here\n",
    "            {\"role\": \"system\", \"content\": \"compose a poem that explains the concepts of recursion in porgraming\"}\n",
    "        ]\n",
    "    )\n",
    "\n",
    "    return completion.choices [0].message.content\n",
    "\n",
    "print(chat_completion())\n",
    "\n",
    "\n",
    "        \n",
    "    \n",
    "\n",
    "        \n",
    "    \n",
    "        \n",
    "\n"
   ]
  },
  {
   "cell_type": "code",
   "execution_count": null,
   "metadata": {},
   "outputs": [],
   "source": []
  }
 ],
 "metadata": {
  "kernelspec": {
   "display_name": "base",
   "language": "python",
   "name": "python3"
  },
  "language_info": {
   "codemirror_mode": {
    "name": "ipython",
    "version": 3
   },
   "file_extension": ".py",
   "mimetype": "text/x-python",
   "name": "python",
   "nbconvert_exporter": "python",
   "pygments_lexer": "ipython3",
   "version": "3.11.5"
  }
 },
 "nbformat": 4,
 "nbformat_minor": 2
}
