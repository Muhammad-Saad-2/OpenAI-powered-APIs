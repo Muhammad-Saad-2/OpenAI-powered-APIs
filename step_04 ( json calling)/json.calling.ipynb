{
 "cells": [
  {
   "cell_type": "code",
   "execution_count": 5,
   "metadata": {},
   "outputs": [],
   "source": [
    "from openai import OpenAI\n",
    "from dotenv import load_dotenv, find_dotenv\n",
    "\n",
    "_ : bool = load_dotenv (find_dotenv())\n",
    "\n",
    "client : OpenAI = OpenAI()"
   ]
  },
  {
   "cell_type": "code",
   "execution_count": 8,
   "metadata": {},
   "outputs": [
    {
     "name": "stdout",
     "output_type": "stream",
     "text": [
      "{\n",
      "  \"months\": [\n",
      "    \"January\",\n",
      "    \"February\",\n",
      "    \"March\",\n",
      "    \"April\",\n",
      "    \"May\",\n",
      "    \"June\",\n",
      "    \"July\",\n",
      "    \"August\",\n",
      "    \"September\",\n",
      "    \"October\",\n",
      "    \"November\",\n",
      "    \"December\"\n",
      "  ]\n",
      "}\n"
     ]
    }
   ],
   "source": [
    "response = client.chat.completions.create(\n",
    "    model = \"gpt-3.5-turbo-1106\",\n",
    "    response_format = {\"type\" : \"json_object\"},\n",
    "\n",
    "    messages = [\n",
    "        {\"role\" : \"system\", \"content\" : \"you are a helpful assistant designed to give JSON output\"},\n",
    "        {\"role\" : \"user\", \"content\" : \"list of the months\"}\n",
    "\n",
    "    ]\n",
    "\n",
    ")\n",
    "\n",
    "print(response.choices[0].message.content)\n",
    "\n",
    "\n"
   ]
  },
  {
   "cell_type": "code",
   "execution_count": null,
   "metadata": {},
   "outputs": [],
   "source": []
  }
 ],
 "metadata": {
  "kernelspec": {
   "display_name": "base",
   "language": "python",
   "name": "python3"
  },
  "language_info": {
   "codemirror_mode": {
    "name": "ipython",
    "version": 3
   },
   "file_extension": ".py",
   "mimetype": "text/x-python",
   "name": "python",
   "nbconvert_exporter": "python",
   "pygments_lexer": "ipython3",
   "version": "3.11.5"
  }
 },
 "nbformat": 4,
 "nbformat_minor": 2
}
