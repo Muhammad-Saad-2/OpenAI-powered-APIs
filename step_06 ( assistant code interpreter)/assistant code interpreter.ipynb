{
 "cells": [
  {
   "cell_type": "markdown",
   "metadata": {},
   "source": [
    "https://cookbook.openai.com/examples/assistants_api_overview_python\n",
    "\n",
    "https://platform.openai.com/docs/assistants/overview"
   ]
  },
  {
   "cell_type": "markdown",
   "metadata": {},
   "source": [
    "<img src = \"https://raw.githubusercontent.com/panaverse/learn-generative-ai/4e527c5445f13cce356e2167bccca6ad2c3798be/03_chatgpt/06_assistants_code_interpreter/assistants.png\">"
   ]
  },
  {
   "cell_type": "markdown",
   "metadata": {},
   "source": [
    "# Importing necessary classes "
   ]
  },
  {
   "cell_type": "code",
   "execution_count": 14,
   "metadata": {},
   "outputs": [],
   "source": [
    "from openai import OpenAI\n",
    "from dotenv import load_dotenv, find_dotenv\n",
    "import json\n",
    "_ : bool = load_dotenv(find_dotenv())\n",
    "\n",
    "client : OpenAI = OpenAI()\n"
   ]
  },
  {
   "cell_type": "markdown",
   "metadata": {},
   "source": []
  },
  {
   "cell_type": "markdown",
   "metadata": {},
   "source": [
    "# Pretty printing Helper"
   ]
  },
  {
   "cell_type": "code",
   "execution_count": 5,
   "metadata": {},
   "outputs": [],
   "source": [
    "import json\n",
    "\n",
    "def show_json(obj):\n",
    "    display(json.loads(obj.model_dump_json()))"
   ]
  },
  {
   "cell_type": "markdown",
   "metadata": {},
   "source": [
    "# ceating an assistant"
   ]
  },
  {
   "cell_type": "code",
   "execution_count": 15,
   "metadata": {},
   "outputs": [
    {
     "data": {
      "text/plain": [
       "{'id': 'asst_G3EEKDejKTKqiuQUIao3EwXe',\n",
       " 'created_at': 1706244318,\n",
       " 'description': None,\n",
       " 'file_ids': [],\n",
       " 'instructions': \"you're a researcher, answer my question briefly, based on your research\",\n",
       " 'metadata': {},\n",
       " 'model': 'gpt-3.5-turbo-1106',\n",
       " 'name': 'Researcher',\n",
       " 'object': 'assistant',\n",
       " 'tools': []}"
      ]
     },
     "metadata": {},
     "output_type": "display_data"
    }
   ],
   "source": [
    "import json\n",
    "from openai.types.beta import Assistant\n",
    "\n",
    "My_assistant: Assistant = client.beta.assistants.create(\n",
    "    \n",
    "    name = \"Researcher\",\n",
    "    instructions = \"you're a researcher, answer my question briefly, based on your research\",\n",
    "    model = \"gpt-3.5-turbo-1106\"\n",
    ")\n",
    "\n",
    "show_json(My_assistant)\n",
    "\n",
    "\n"
   ]
  },
  {
   "cell_type": "markdown",
   "metadata": {},
   "source": [
    "# creating a thread"
   ]
  },
  {
   "cell_type": "code",
   "execution_count": 16,
   "metadata": {},
   "outputs": [
    {
     "data": {
      "text/plain": [
       "{'id': 'thread_jh2DlJAq69DY79s0Bsb68bou',\n",
       " 'created_at': 1706244325,\n",
       " 'metadata': {},\n",
       " 'object': 'thread'}"
      ]
     },
     "metadata": {},
     "output_type": "display_data"
    }
   ],
   "source": [
    "from openai.types.beta import Thread\n",
    "\n",
    "thread : Thread = client.beta.threads.create(\n",
    "    \n",
    ")\n",
    "\n",
    "show_json(thread)\n"
   ]
  },
  {
   "cell_type": "markdown",
   "metadata": {},
   "source": [
    "# Creating a message "
   ]
  },
  {
   "cell_type": "code",
   "execution_count": 17,
   "metadata": {},
   "outputs": [
    {
     "data": {
      "text/plain": [
       "{'id': 'msg_rMDWCmCiRJ6GJOyGhpcazx6N',\n",
       " 'assistant_id': None,\n",
       " 'content': [{'text': {'annotations': [],\n",
       "    'value': ' I need some research about how Pakistan came into existenc'},\n",
       "   'type': 'text'}],\n",
       " 'created_at': 1706244333,\n",
       " 'file_ids': [],\n",
       " 'metadata': {},\n",
       " 'object': 'thread.message',\n",
       " 'role': 'user',\n",
       " 'run_id': None,\n",
       " 'thread_id': 'thread_jh2DlJAq69DY79s0Bsb68bou'}"
      ]
     },
     "metadata": {},
     "output_type": "display_data"
    }
   ],
   "source": [
    "from openai.types.beta.threads.thread_message import ThreadMessage\n",
    "\n",
    "message = client.beta.threads.messages.create(\n",
    "    thread_id = thread.id,\n",
    "    role = \"user\",\n",
    "    content = \" I need some research about how Pakistan came into existenc\"\n",
    "\n",
    ")\n",
    "\n",
    "show_json(message)\n",
    "\n"
   ]
  },
  {
   "cell_type": "markdown",
   "metadata": {},
   "source": [
    "# Run the assistant"
   ]
  },
  {
   "cell_type": "code",
   "execution_count": 18,
   "metadata": {},
   "outputs": [
    {
     "data": {
      "text/plain": [
       "{'id': 'run_g4R3608vAQhhiw32TqRWkUOG',\n",
       " 'assistant_id': 'asst_G3EEKDejKTKqiuQUIao3EwXe',\n",
       " 'cancelled_at': None,\n",
       " 'completed_at': None,\n",
       " 'created_at': 1706244338,\n",
       " 'expires_at': 1706244938,\n",
       " 'failed_at': None,\n",
       " 'file_ids': [],\n",
       " 'instructions': \"you're a researcher, answer my question briefly, based on your research\",\n",
       " 'last_error': None,\n",
       " 'metadata': {},\n",
       " 'model': 'gpt-3.5-turbo-1106',\n",
       " 'object': 'thread.run',\n",
       " 'required_action': None,\n",
       " 'started_at': None,\n",
       " 'status': 'queued',\n",
       " 'thread_id': 'thread_jh2DlJAq69DY79s0Bsb68bou',\n",
       " 'tools': [],\n",
       " 'usage': None}"
      ]
     },
     "metadata": {},
     "output_type": "display_data"
    }
   ],
   "source": [
    "from openai.types.beta.threads.run import Run\n",
    "\n",
    "run = client.beta.threads.runs.create(\n",
    "    thread_id = thread.id,\n",
    "    assistant_id = My_assistant.id,\n",
    "\n",
    ")\n",
    "\n",
    "show_json (run)"
   ]
  },
  {
   "cell_type": "markdown",
   "metadata": {},
   "source": [
    "# Retreival "
   ]
  },
  {
   "cell_type": "code",
   "execution_count": 19,
   "metadata": {},
   "outputs": [],
   "source": [
    "#using a while loop so it keeps retreiving until the task is done\n",
    "\n",
    "import time\n",
    "\n",
    "def wait_on_run(run, thread):\n",
    "    while run.status == \"queued\" or run.status == \"in_progress\":\n",
    "        run = client.beta.threads.runs.create(\n",
    "    thread_id = thread.id,\n",
    "    assistant_id = My_assistant.id,\n",
    "        \n",
    "        )\n",
    "        time.sleep(0.5)\n",
    "    return run\n",
    "\n",
    "        "
   ]
  },
  {
   "cell_type": "code",
   "execution_count": 20,
   "metadata": {},
   "outputs": [
    {
     "data": {
      "text/plain": [
       "{'data': [{'id': 'msg_C0QaDxAGWcdrjjtnxugkmDOM',\n",
       "   'assistant_id': 'asst_G3EEKDejKTKqiuQUIao3EwXe',\n",
       "   'content': [{'text': {'annotations': [],\n",
       "      'value': 'Pakistan came into existence on August 14, 1947, when the Indian Independence Act 1947 was passed by the British Parliament, and the partition of British India occurred, creating the separate nations of India and Pakistan. The creation of Pakistan was based on the demand for a separate Muslim-majority state, and was led by Muhammad Ali Jinnah and the All-India Muslim League.'},\n",
       "     'type': 'text'}],\n",
       "   'created_at': 1706244339,\n",
       "   'file_ids': [],\n",
       "   'metadata': {},\n",
       "   'object': 'thread.message',\n",
       "   'role': 'assistant',\n",
       "   'run_id': 'run_g4R3608vAQhhiw32TqRWkUOG',\n",
       "   'thread_id': 'thread_jh2DlJAq69DY79s0Bsb68bou'},\n",
       "  {'id': 'msg_rMDWCmCiRJ6GJOyGhpcazx6N',\n",
       "   'assistant_id': None,\n",
       "   'content': [{'text': {'annotations': [],\n",
       "      'value': ' I need some research about how Pakistan came into existenc'},\n",
       "     'type': 'text'}],\n",
       "   'created_at': 1706244333,\n",
       "   'file_ids': [],\n",
       "   'metadata': {},\n",
       "   'object': 'thread.message',\n",
       "   'role': 'user',\n",
       "   'run_id': None,\n",
       "   'thread_id': 'thread_jh2DlJAq69DY79s0Bsb68bou'}],\n",
       " 'object': 'list',\n",
       " 'first_id': 'msg_C0QaDxAGWcdrjjtnxugkmDOM',\n",
       " 'last_id': 'msg_rMDWCmCiRJ6GJOyGhpcazx6N',\n",
       " 'has_more': False}"
      ]
     },
     "metadata": {},
     "output_type": "display_data"
    }
   ],
   "source": [
    "messages = client.beta.threads.messages.list(thread_id=thread.id)\n",
    "show_json(messages)"
   ]
  },
  {
   "cell_type": "markdown",
   "metadata": {},
   "source": [
    "# Display the message "
   ]
  },
  {
   "cell_type": "code",
   "execution_count": 23,
   "metadata": {},
   "outputs": [
    {
     "name": "stdout",
     "output_type": "stream",
     "text": [
      "user: I need some research about how Pakistan came into existenc\n",
      "assistant:Pakistan came into existence on August 14, 1947, when the Indian Independence Act 1947 was passed by the British Parliament, and the partition of British India occurred, creating the separate nations of India and Pakistan. The creation of Pakistan was based on the demand for a separate Muslim-majority state, and was led by Muhammad Ali Jinnah and the All-India Muslim League.\n"
     ]
    }
   ],
   "source": [
    "messages: list[ThreadMessage] = client.beta.threads.messages.list(\n",
    "    thread_id=thread.id\n",
    ")\n",
    "\n",
    "for m in reversed(messages.data):\n",
    "    print( m.role + \":\" + m.content[0].text.value)"
   ]
  },
  {
   "cell_type": "markdown",
   "metadata": {},
   "source": []
  }
 ],
 "metadata": {
  "kernelspec": {
   "display_name": "base",
   "language": "python",
   "name": "python3"
  },
  "language_info": {
   "codemirror_mode": {
    "name": "ipython",
    "version": 3
   },
   "file_extension": ".py",
   "mimetype": "text/x-python",
   "name": "python",
   "nbconvert_exporter": "python",
   "pygments_lexer": "ipython3",
   "version": "3.11.5"
  }
 },
 "nbformat": 4,
 "nbformat_minor": 2
}
