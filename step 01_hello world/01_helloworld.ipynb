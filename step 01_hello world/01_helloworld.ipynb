{
 "cells": [
  {
   "cell_type": "code",
   "execution_count": 2,
   "metadata": {},
   "outputs": [],
   "source": [
    "from typing import Any, Dict\n",
    "# Import necessary libraries\n",
    "from openai import OpenAI  # Import the OpenAI library\n",
    "from dotenv import load_dotenv, find_dotenv  # Import functions to load environment variables\n",
    "import os  # Import the 'os' module for operating system functionality\n",
    "\n",
    "# Load environment variables from a local file named .env\n",
    "_ : bool = load_dotenv(find_dotenv())\n",
    "\n",
    "# Define a variable 'client' and create an instance of the OpenAI class\n",
    "client : OpenAI = OpenAI()\n"
   ]
  },
  {
   "cell_type": "code",
   "execution_count": 3,
   "metadata": {},
   "outputs": [
    {
     "data": {
      "text/plain": [
       "{'id': 'chatcmpl-8forEmXTPG0vCdPWEK7vtX9Lg1pEW',\n",
       " 'choices': [Choice(finish_reason='stop', index=0, logprobs=None, message=ChatCompletionMessage(content='The capital of the United States of America is Washington, D.C.', role='assistant', function_call=None, tool_calls=None))],\n",
       " 'created': 1704977636,\n",
       " 'model': 'gpt-3.5-turbo-1106',\n",
       " 'object': 'chat.completion',\n",
       " 'system_fingerprint': 'fp_cbe4fa03fe',\n",
       " 'usage': CompletionUsage(completion_tokens=14, prompt_tokens=10, total_tokens=24)}"
      ]
     },
     "metadata": {},
     "output_type": "display_data"
    },
    {
     "data": {
      "text/plain": [
       "'The capital of the United States of America is Washington, D.C.'"
      ]
     },
     "execution_count": 3,
     "metadata": {},
     "output_type": "execute_result"
    }
   ],
   "source": [
    "\n",
    "\n",
    "# Import a specific type (ChatCompletion) from the OpenAI library\n",
    "from openai.types.chat.chat_completion import ChatCompletion\n",
    "\n",
    "# Define a function named 'chat_completion' that takes a prompt as input\n",
    "def chat_completion(prompt : str )-> str:\n",
    "    # Call the 'create' method of the 'chat.completions' module from the OpenAI library\n",
    "    response : ChatCompletion = client.chat.completions.create(\n",
    "        messages=[\n",
    "            {\n",
    "                \"role\": \"user\",\n",
    "                \"content\": prompt,\n",
    "            }\n",
    "        ],\n",
    "        model=\"gpt-3.5-turbo-1106\",  # Specify the GPT-3.5 Turbo model\n",
    "    )\n",
    "    display (dict(response))\n",
    "    return response.choices[0].message.content  # Return the content of the generated response\n",
    "\n",
    "# Call the 'chat_completion' function with a specific prompt\n",
    "chat_completion(\"capital of USA\")\n"
   ]
  },
  {
   "cell_type": "code",
   "execution_count": null,
   "metadata": {},
   "outputs": [],
   "source": []
  }
 ],
 "metadata": {
  "kernelspec": {
   "display_name": "python12",
   "language": "python",
   "name": "python3"
  },
  "language_info": {
   "codemirror_mode": {
    "name": "ipython",
    "version": 3
   },
   "file_extension": ".py",
   "mimetype": "text/x-python",
   "name": "python",
   "nbconvert_exporter": "python",
   "pygments_lexer": "ipython3",
   "version": "3.11.5"
  }
 },
 "nbformat": 4,
 "nbformat_minor": 2
}
