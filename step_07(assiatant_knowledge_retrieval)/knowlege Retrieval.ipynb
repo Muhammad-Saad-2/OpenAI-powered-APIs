{
 "cells": [
  {
   "cell_type": "markdown",
   "metadata": {},
   "source": [
    "<image src = \"https://raw.githubusercontent.com/panaverse/learn-generative-ai/94f3bb6966ce89d09ce8998e0d26425a4eb7c3ed/03_chatgpt/07_assistants_knowledge_retrieval/ret.jpg\">"
   ]
  },
  {
   "cell_type": "markdown",
   "metadata": {},
   "source": [
    "# Pretty Printing Helper "
   ]
  },
  {
   "cell_type": "code",
   "execution_count": 49,
   "metadata": {},
   "outputs": [],
   "source": [
    "import json\n",
    "\n",
    "def show_json(obj):\n",
    "    display(json.loads(obj.model_dump_json()))"
   ]
  },
  {
   "cell_type": "code",
   "execution_count": 11,
   "metadata": {},
   "outputs": [],
   "source": [
    "from openai import OpenAI\n",
    "import json\n",
    "from dotenv import load_dotenv, find_dotenv\n",
    "import os\n",
    "\n",
    "\n",
    "load_dotenv(find_dotenv())\n",
    "\n",
    "openai = OpenAI(api_key=os.getenv(\"OPENAI_API_KEY\"))\n",
    "\n",
    "client: openai = OpenAI()\n"
   ]
  },
  {
   "cell_type": "markdown",
   "metadata": {},
   "source": [
    "# Step 1:\n",
    "* uploaing a file and creating an assistant "
   ]
  },
  {
   "cell_type": "code",
   "execution_count": 52,
   "metadata": {},
   "outputs": [
    {
     "data": {
      "text/plain": [
       "{'id': 'file-mzfXjY4t9i2KlgfK5bZcmgJq',\n",
       " 'bytes': 48802,\n",
       " 'created_at': 1706893623,\n",
       " 'filename': 'zia_profile.pdf',\n",
       " 'object': 'file',\n",
       " 'purpose': 'assistants',\n",
       " 'status': 'processed',\n",
       " 'status_details': None}"
      ]
     },
     "metadata": {},
     "output_type": "display_data"
    }
   ],
   "source": [
    "from openai.types.beta import Assistant\n",
    "\n",
    "# Upload a file with an \"assistants\" purpose\n",
    "file = client.files.create(\n",
    "  file=open(\"zia_profile.pdf\", \"rb\"),\n",
    "  purpose='assistants'\n",
    ")\n",
    "\n",
    "show_json(file)"
   ]
  },
  {
   "cell_type": "code",
   "execution_count": 25,
   "metadata": {},
   "outputs": [],
   "source": [
    "assistant: Assistant = client.beta.assistants.create(\n",
    "  name=\"Student Support Assistant\",\n",
    "  instructions=\"You are a student support chatbot. Use your knowledge base to best respond to student queries about Zia  Khan.\",\n",
    "  model=\"gpt-3.5-turbo-1106\",\n",
    "  tools=[{\"type\": \"retrieval\"}],\n",
    "  file_ids=[file.id]\n",
    ")"
   ]
  },
  {
   "cell_type": "markdown",
   "metadata": {},
   "source": [
    "# Step 2\n",
    "* Creating a Thread "
   ]
  },
  {
   "cell_type": "code",
   "execution_count": 53,
   "metadata": {},
   "outputs": [
    {
     "data": {
      "text/plain": [
       "{'id': 'thread_hOmnHMfYGe4qhYvJa4YPQMC6',\n",
       " 'created_at': 1706893638,\n",
       " 'metadata': {},\n",
       " 'object': 'thread'}"
      ]
     },
     "metadata": {},
     "output_type": "display_data"
    }
   ],
   "source": [
    "from openai.types.beta.thread import Thread\n",
    "\n",
    "thread : Thread = client.beta.threads.create()\n",
    "\n",
    "show_json (thread)"
   ]
  },
  {
   "cell_type": "markdown",
   "metadata": {},
   "source": [
    "# Step 3 \n",
    "* Create the Message "
   ]
  },
  {
   "cell_type": "code",
   "execution_count": 28,
   "metadata": {},
   "outputs": [],
   "source": [
    "from openai.types.beta.threads.thread_message import ThreadMessage \n",
    "\n",
    "message = client.beta.threads.messages.create(\n",
    "    thread_id= thread.id,\n",
    "    role = 'user',\n",
    "    content = \"When and which city was zia born\"\n",
    "\n",
    ")"
   ]
  },
  {
   "cell_type": "markdown",
   "metadata": {},
   "source": [
    "# Step 4\n",
    "* Run the message"
   ]
  },
  {
   "cell_type": "code",
   "execution_count": 54,
   "metadata": {},
   "outputs": [
    {
     "data": {
      "text/plain": [
       "{'id': 'run_9FtEEh0wBbG80oO0QNeJLN7z',\n",
       " 'assistant_id': 'asst_pflxHRN5WxOqPNRsKtxvuA07',\n",
       " 'cancelled_at': None,\n",
       " 'completed_at': None,\n",
       " 'created_at': 1706893648,\n",
       " 'expires_at': 1706894248,\n",
       " 'failed_at': None,\n",
       " 'file_ids': ['file-UhUsIVFUTND53iAmzsGKOZAO'],\n",
       " 'instructions': 'the user is one of the student from PIAIC',\n",
       " 'last_error': None,\n",
       " 'metadata': {},\n",
       " 'model': 'gpt-3.5-turbo-1106',\n",
       " 'object': 'thread.run',\n",
       " 'required_action': None,\n",
       " 'started_at': None,\n",
       " 'status': 'queued',\n",
       " 'thread_id': 'thread_hOmnHMfYGe4qhYvJa4YPQMC6',\n",
       " 'tools': [{'type': 'retrieval'}],\n",
       " 'usage': None}"
      ]
     },
     "metadata": {},
     "output_type": "display_data"
    }
   ],
   "source": [
    "from openai.types.beta.threads.run import Run\n",
    "\n",
    "run = client.beta.threads.runs.create(\n",
    "    thread_id=thread.id,\n",
    "    assistant_id=assistant.id,\n",
    "    instructions = \"the user is one of the student from PIAIC\"\n",
    ")\n",
    "\n",
    "show_json (run)"
   ]
  },
  {
   "cell_type": "markdown",
   "metadata": {},
   "source": [
    "# Step 4\n",
    "* check the run status "
   ]
  },
  {
   "cell_type": "code",
   "execution_count": 47,
   "metadata": {},
   "outputs": [],
   "source": [
    "\n",
    "import time\n",
    "def time_on_run(run, thread):\n",
    "    while run.status == \"queued\" or run.status == \"in_progress\":\n",
    "        run : Run = client.beta.threads.runs.retrieve(\n",
    "    \n",
    "    thread_id = thread.id,\n",
    "    run_id = run.id,\n",
    "    ) \n",
    "\n",
    "        time.sleep(5)\n",
    "    return run  \n",
    "\n",
    "       \n",
    "\n",
    "\n",
    "\n",
    "\n",
    "    \n",
    "\n"
   ]
  },
  {
   "cell_type": "code",
   "execution_count": 55,
   "metadata": {},
   "outputs": [
    {
     "data": {
      "text/plain": [
       "{'data': [{'id': 'msg_cNAkFhNuTSle8GVKkzZF80fh',\n",
       "   'assistant_id': 'asst_pflxHRN5WxOqPNRsKtxvuA07',\n",
       "   'content': [{'text': {'annotations': [{'end_index': 406,\n",
       "        'file_citation': {'file_id': 'file-UhUsIVFUTND53iAmzsGKOZAO',\n",
       "         'quote': \"A Nation-Building Journey of 40 Years\\n\\n\\nZia Khan was born in Sialkot in 1961 in an army garrison. His father the late Lt.\\nCol. Inam Ullah Khan was an army officer who had been posted to Sialkot in an\\nartillery regiment. The family moved throughout Pakistan in different positions.\\nThe events and tragedy of December 1971 had a deep impact on his thinking and\\npsyche. He felt that he had to do something to turn the future of his beloved\\nPakistan around. However exactly what needed to be done remained a mystery\\nto him.\\n\\n\\nZia completed his matriculation from Habib Public School in Karachi in 1977 in\\nthe first division. For the next few years he knew that he would spend his life\\nworking for the betterment of his country but the specifics of the solution eluded\\nhim. First he thought that he would join the army and become a great worrier\\nhowever after careful thought he concluded that this would not address the\\nissues facing the country. Becoming a politician was another option considered\\nbut after careful consideration was rejected. There came the period when he\\nthought that becoming a businessman and financial wizard might help him\\ntransform the country. However later he realized that this might not be enough.\\n\\n\\nBy 1985 Zia Khan had come to realize that the reason Pakistan and other Muslim\\nnations were behind the West and other nations was because of being way\\nbehind in technology and education. This downward trend started way back in\\nthe 15th century when we failed to adopt the printing press and other\\ntechnologies. Then we missed the first second and third industrial revolutions\\nresulting in the current state of affairs. This degeneration of society cannot be\\nresolved with political economic religious educational or military reforms\\nalone. A movement to transform the culture is required which creates a love of\\nknowledge and technology in the masses. It may take a generation or two to\\nachieve its objectives but it is the only way.\\n\\n\\nZia now had the realization of what needed to be done however he also realized\\nthat he was unfit to start such a movement. He was an average student with very\\nlimited capabilities. However one thing was decided in his mind that he would\\nspend the rest of his life pursuing this goal with complete disregard for personal\\nbenefits and goals. He would not focus on raising a family or getting a good job or\\nwhat other people do but focus 16 hours a day and 7 days a week on achieving\\nthis one national objective.\\n\\n\\nZia had decided to go to the USA to get the best possible interdisciplinary\\neducation. The plan was to develop expertise in business engineering\\naccounting finance and economics. After completing his Master's in Economics\\n\\nfrom Karachi in 1987 he was admitted in triple master's degrees at Arizona State\\nUniversity (ASU) i.e. MBA MS and MAC and also became a Certified Public\\nAccountant (CPA) and Certified Management Accountant (CMA) in the USA. By\\nDecember 1992 he had completed these and was ready to take on the world.\\n\\n\\nAt the start of 1993 Zia moved to Silicon Valley and with his friends incorporated\\nXenosys Corporation in California. He did not opt to apply for a green card but\\npreferred to work on a temporary worker H1 visa. The company’s office was in\\nSunnyvale and it worked on hardware and software solutions. After 1995 the\\nmain focus was on Java technologies with Intel and other companies as its clients.\\nBy the end of 1999 Zia had gained a lot of experience in technology as well as in\\nbusiness therefore he thought it was now time to move back to Pakistan to start\\nthe nation-building movement to transform Pakistan.\\n\\n\\nIn October of 1999 Zia returned to Karachi intending to set up a technology\\ncompany but soon realized that the skill level of most IT graduates in Pakistan\\nwas not up to the mark. After teaching in several institutions he also realized that\\nthey were not the solution but the source of the problem. To try to make an\\nimpact he started teaching to anyone willing to listen. It started with free classes\\nbeing held on the stairs of multi-storied buildings. But soon Sir Syed University\\noffered their campus for these free classes on Sundays. When the word got\\naround about free classes so many people started showing up that it became also\\nimpossible to manage and hold these classes. To reduce the size of the students\\nthe university started charging Rs. 2500 per semester which the university kept\\nto cover their expenses. After the first semester the realization came that more\\nteachers were needed; therefore the best students of the first semester were\\nselected to become teachers. To pay these new teachers the university agreed to\\nallocate a budget of 40% of the fee for the teachers. Zia’s role was that of teacher\\ntrainer manager and author of syllabi.\\n\\n\\nA new working model was being formed where the space of universities and\\ninstitutions was used on Sundays to teach at extremely low fees with all teachers\\nbeing homegrown. This model was replicated all over Karachi with tens of\\ninstitutions participating. It system also started spreading to other cities like\\nHyderabad Lahore and Quetta. Zia was himself going to other cities to teach free\\nof cost.\\n\\n\\nBy September of 2001 the movement with the brand name of “Operation Bader”\\nwas growing exponentially and spreading like wildfire all across the country with\\nmore than 20 institutions participating and tens of thousands of students\\nparticipating in the eighteen-month program. The students were getting\\ngood-paying jobs domestically and internationally without even completing the\\nprogram.\\n\\n\\nWith 9/11 everything changed. International companies stopped giving software\\ndevelopment contracts to Pakistani companies. Western countries stopped giving\\nvisas to Pakistani software developers. Most Pakistani software companies had to\\nclose shops because of a lack of business resulting in massive unemployment of\\n\\nsoftware developers in Pakistan. As a result the interest of students in Operation\\nBadar plunged. The student body was reduced to a few hundred students.\\nFor the next decade the movement was reduced to a single institution i.e. Sir\\nSyed University with a few hundred students being taught on Sundays. However\\nthe bright side of this winter was a core team of battle-hardened core group was\\nformed which had the confidence that they could survive under any circumstance\\nand carry the mission forward.\\n\\n\\nWith freelancing picking up globally slowly the environment started changing in\\nPakistan. Some of Zia’s students started making good money while working for\\ninternational companies and startups on freelancing platforms. International\\ncontracts again started flowing into Pakistani companies thus creating domestic\\njobs. The expansion of the movement again started when new institutions\\nstarted joining the cause. A breakthrough was achieved when Saylani Welfare\\nTrust joined the movement and started offering free classes in 2013.\\n\\n\\nIn 2018 Dr. Arif Alvi became the President of Pakistan after the new government\\ntook power in Pakistan. He had an extreme interest in technology and as a result\\nthe Presidential Initiative for Artificial Intelligence and Computing (PIAIC) was\\nborn. PIAIC has trained thousands of students\"},\n",
       "        'start_index': 396,\n",
       "        'text': '【6†source】',\n",
       "        'type': 'file_citation'}],\n",
       "      'value': 'Zia U. Khan, the CEO and Founder of Panacloud (Pvt.) Ltd. and Panaverse LLC, as well as the COO and Founder of PIAIC, has a remarkable journey dedicated to nation-building in Pakistan. His efforts have led to the formation of the Presidential Initiative for Artificial Intelligence and Computing (PIAIC), which has trained thousands of students in cutting-edge technologies and continues to do so【6†source】. If you need further information on PIAIC or any other details from the document, feel free to ask!'},\n",
       "     'type': 'text'}],\n",
       "   'created_at': 1706893652,\n",
       "   'file_ids': [],\n",
       "   'metadata': {},\n",
       "   'object': 'thread.message',\n",
       "   'role': 'assistant',\n",
       "   'run_id': 'run_9FtEEh0wBbG80oO0QNeJLN7z',\n",
       "   'thread_id': 'thread_hOmnHMfYGe4qhYvJa4YPQMC6'}],\n",
       " 'object': 'list',\n",
       " 'first_id': 'msg_cNAkFhNuTSle8GVKkzZF80fh',\n",
       " 'last_id': 'msg_cNAkFhNuTSle8GVKkzZF80fh',\n",
       " 'has_more': False}"
      ]
     },
     "metadata": {},
     "output_type": "display_data"
    }
   ],
   "source": [
    "messages = client.beta.threads.messages.list(thread_id=thread.id)\n",
    "show_json(messages)"
   ]
  },
  {
   "cell_type": "code",
   "execution_count": 56,
   "metadata": {},
   "outputs": [
    {
     "name": "stdout",
     "output_type": "stream",
     "text": [
      "assistant:Zia U. Khan, the CEO and Founder of Panacloud (Pvt.) Ltd. and Panaverse LLC, as well as the COO and Founder of PIAIC, has a remarkable journey dedicated to nation-building in Pakistan. His efforts have led to the formation of the Presidential Initiative for Artificial Intelligence and Computing (PIAIC), which has trained thousands of students in cutting-edge technologies and continues to do so【6†source】. If you need further information on PIAIC or any other details from the document, feel free to ask!\n"
     ]
    }
   ],
   "source": [
    "messages: list[ThreadMessage] = client.beta.threads.messages.list(\n",
    "    thread_id=thread.id\n",
    ")\n",
    "\n",
    "for m in reversed(messages.data):\n",
    "    print( m.role + \":\" + m.content[0].text.value)"
   ]
  },
  {
   "cell_type": "code",
   "execution_count": null,
   "metadata": {},
   "outputs": [],
   "source": []
  }
 ],
 "metadata": {
  "kernelspec": {
   "display_name": "base",
   "language": "python",
   "name": "python3"
  },
  "language_info": {
   "codemirror_mode": {
    "name": "ipython",
    "version": 3
   },
   "file_extension": ".py",
   "mimetype": "text/x-python",
   "name": "python",
   "nbconvert_exporter": "python",
   "pygments_lexer": "ipython3",
   "version": "3.11.5"
  }
 },
 "nbformat": 4,
 "nbformat_minor": 2
}
